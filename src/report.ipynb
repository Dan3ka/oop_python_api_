{
 "cells": [
  {
   "cell_type": "markdown",
   "id": "5a50ac31",
   "metadata": {},
   "source": [
    "“Suddenly, we saw something really strange — we’d never seen anything like it before. It was huge and took up about half of the room. But the size wasn’t its main characteristic — it was the clocks. All kinds of clocks, big and small, vintage and ultra-modern. We looked at each other, our faces full of wordless questions.\n",
    "\n",
    "We came closer, and our eyes fell upon a book, so very much like a set of instructions.\n",
    "\n",
    "‘It’s impossible,’ said Nymosche, ‘it couldn’t be it…’\n",
    "\n",
    "‘Umm, yeah, but maybe we could just, like, you know, try it,’ answered Cybernea.\n",
    "\n",
    "‘You really think it’s gonna work? How many times in your life have you seen such things… hmm… let me think… like NEVER.’ Nymosche was a little worried.\n",
    "\n",
    "‘Let’s just try, I swear, it’ll be really exciting’—and before he could finish, Cybernea brought her hand down on the large button inscribed with the word Launch.”"
   ]
  },
  {
   "cell_type": "markdown",
   "id": "46b8217e",
   "metadata": {},
   "source": [
    "Chapter I.\n",
    "\n"
   ]
  },
  {
   "cell_type": "code",
   "execution_count": 250,
   "id": "27a4865d",
   "metadata": {},
   "outputs": [
    {
     "name": "stdout",
     "output_type": "stream",
     "text": [
      "The machine is running. Data loaded.\n",
      "112 ms ± 0 ns per loop (mean ± std. dev. of 1 run, 1 loop each)\n"
     ]
    }
   ],
   "source": [
    "%%timeit -n 1 -r 1\n",
    "\n",
    "from movielens_analysis import Movies, Ratings, Tags, Links\n",
    "\n",
    "movies_db = Movies('data files/movies.csv')\n",
    "ratings_db = Ratings('data files/ratings.csv', 'data files/movies.csv')\n",
    "tags_db = Tags('data files/tags.csv')\n",
    "links_db = Links('data files/links.csv', 'data files/movies.csv')\n",
    "\n",
    "print(\"The machine is running. Data loaded.\")"
   ]
  },
  {
   "cell_type": "markdown",
   "id": "bb141862",
   "metadata": {},
   "source": [
    "Hey, just look! There are some time coordinates on the main screen — it seems most of the events happened at the end of the ’20s,” she said, full of enthusiasm."
   ]
  },
  {
   "cell_type": "code",
   "execution_count": 251,
   "id": "16d2d52e",
   "metadata": {},
   "outputs": [
    {
     "name": "stdout",
     "output_type": "stream",
     "text": [
      "Distribution of ‘memories’ by years:\n",
      "{2002: 311, 2006: 295, 2001: 294, 2007: 285, 2000: 283, 2009: 282, 2003: 279, 2004: 279, 2014: 278, 1996: 276, 2015: 274, 2005: 273, 2008: 269, 1999: 263, 1997: 260, 1995: 259, 1998: 258, 2011: 254, 2010: 247, 2013: 239, 1994: 237, 2012: 233, 2016: 218, 1993: 198, 1992: 167, 1988: 165, 1987: 153, 1990: 147, 1991: 147, 2017: 147, 1989: 142, 1986: 139, 1985: 126, 1984: 101, 1981: 92, 1980: 89, 1982: 87, 1983: 83, 1979: 69, 1977: 63, 1973: 59, 1978: 59, 1965: 47, 1971: 47, 1974: 45, 1976: 44, 1964: 43, 1967: 42, 1968: 42, 1975: 42, 1966: 42, 2018: 41, 1962: 40, 1972: 39, 1963: 39, 1959: 37, 1960: 37, 1955: 36, 1969: 35, 1961: 34, 1970: 33, 1957: 33, 1958: 31, 1953: 30, 1956: 30, 1940: 25, 1949: 25, 1954: 23, 1942: 23, 1939: 23, 1946: 23, 1951: 22, 1950: 21, 1947: 20, 1948: 20, 1941: 18, 1936: 18, 1945: 17, 1937: 16, 1952: 16, 1944: 16, 1938: 15, 1931: 14, 1935: 13, 1933: 12, None: 12, 1934: 11, 1943: 10, 1932: 9, 1927: 7, 1930: 5, 1926: 5, 1924: 5, 1929: 4, 1928: 4, 1925: 4, 1923: 4, 1916: 4, 1920: 2, 1922: 1, 1919: 1, 1921: 1, 1915: 1, 1917: 1, 1902: 1, 1903: 1, 1908: 1}\n",
      "7.96 ms ± 0 ns per loop (mean ± std. dev. of 1 run, 1 loop each)\n"
     ]
    }
   ],
   "source": [
    "%%timeit -n 1 -r 1\n",
    "\n",
    "print(\"Distribution of ‘memories’ by years:\")\n",
    "print(movies_db.dist_by_release())"
   ]
  },
  {
   "cell_type": "markdown",
   "id": "87edfc52",
   "metadata": {},
   "source": [
    "“Alright, that’s just statistics. But what about the content? What are these ‘memories’ made of? What are their ‘genres’?”-Nymosche looked interested"
   ]
  },
  {
   "cell_type": "code",
   "execution_count": 252,
   "id": "50947bc6",
   "metadata": {},
   "outputs": [
    {
     "name": "stdout",
     "output_type": "stream",
     "text": [
      "\n",
      "The most common ‘genres’ of memories:\n",
      "{'Drama': 4361, 'Comedy': 3756, 'Thriller': 1894, 'Action': 1828, 'Romance': 1596, 'Adventure': 1263, 'Crime': 1199, 'Sci-Fi': 980, 'Horror': 978, 'Fantasy': 779, 'Children': 664, 'Animation': 611, 'Mystery': 573, 'Documentary': 440, 'War': 382, 'Musical': 334, 'Western': 167, 'IMAX': 158, 'Film-Noir': 87, '(no genres listed)': 34}\n",
      "\n",
      "The most by genres\n",
      "{'Rubber (2010)': 10, 'Patlabor: The Movie (Kidô keisatsu patorebâ: The Movie) (1989)': 8, 'Mulan (1998)': 7, 'Who Framed Roger Rabbit? (1988)': 7, 'Osmosis Jones (2001)': 7, 'Interstate 60 (2002)': 7, 'Robots (2005)': 7, 'Pulse (2006)': 7, 'Aqua Teen Hunger Force Colon Movie Film for Theaters (2007)': 7, 'Enchanted (2007)': 7}\n",
      "13.2 ms ± 0 ns per loop (mean ± std. dev. of 1 run, 1 loop each)\n"
     ]
    }
   ],
   "source": [
    "%%timeit -n 1 -r 1\n",
    "\n",
    "print(\"\\nThe most common ‘genres’ of memories:\")\n",
    "print(movies_db.dist_by_genres())\n",
    "print(\"\\nThe most by genres\")\n",
    "print(movies_db.most_genres(10))"
   ]
  },
  {
   "cell_type": "markdown",
   "id": "7b549f98",
   "metadata": {},
   "source": [
    "“Hmm, this machine looks like it can analyze people’s emotions about each event. Let’s see it,” Cybernea said as she pushed another button."
   ]
  },
  {
   "cell_type": "code",
   "execution_count": 253,
   "id": "0c2d5448",
   "metadata": {},
   "outputs": [
    {
     "name": "stdout",
     "output_type": "stream",
     "text": [
      "The full range of ‘emotions’ (ratings):\n",
      "{0.5: 1370, 1.0: 2811, 1.5: 1791, 2.0: 7551, 2.5: 5550, 3.0: 20047, 3.5: 13136, 4.0: 26818, 4.5: 8551, 5.0: 13211}\n",
      "23.1 ms ± 0 ns per loop (mean ± std. dev. of 1 run, 1 loop each)\n"
     ]
    }
   ],
   "source": [
    "%%timeit -n 1 -r 1\n",
    "\n",
    "analyzer = Ratings.Movies(ratings_db) \n",
    "print(\"The full range of ‘emotions’ (ratings):\")\n",
    "print(analyzer.dist_by_rating())"
   ]
  },
  {
   "cell_type": "markdown",
   "id": "18b88fd4",
   "metadata": {},
   "source": [
    "-\"People tend to give high ratings. But which memories triggered the strongest emotional response? In other words, which ones were rated most often?\"-said Nymosche"
   ]
  },
  {
   "cell_type": "code",
   "execution_count": 254,
   "id": "c11971c7",
   "metadata": {},
   "outputs": [
    {
     "name": "stdout",
     "output_type": "stream",
     "text": [
      "\n",
      "'The memories that sparked the greatest resonance (measured by ratings):\n",
      "{'Forrest Gump (1994)': 329, 'Shawshank Redemption, The (1994)': 317, 'Pulp Fiction (1994)': 307, 'Silence of the Lambs, The (1991)': 279, 'Matrix, The (1999)': 278, 'Star Wars: Episode IV - A New Hope (1977)': 251, 'Jurassic Park (1993)': 238, 'Braveheart (1995)': 237, 'Terminator 2: Judgment Day (1991)': 224, \"Schindler's List (1993)\": 220}\n",
      "21 ms ± 0 ns per loop (mean ± std. dev. of 1 run, 1 loop each)\n"
     ]
    }
   ],
   "source": [
    "%%timeit -n 1 -r 1\n",
    "\n",
    "print(\"\\n'The memories that sparked the greatest resonance (measured by ratings):\")\n",
    "print(analyzer.top_by_num_of_ratings(10))"
   ]
  },
  {
   "cell_type": "markdown",
   "id": "dca40931",
   "metadata": {},
   "source": [
    "And now let’s find the ‘perfect’ memories — the ones people rated the highest"
   ]
  },
  {
   "cell_type": "code",
   "execution_count": 255,
   "id": "8323b5b1",
   "metadata": {},
   "outputs": [
    {
     "name": "stdout",
     "output_type": "stream",
     "text": [
      "The brightest ‘memories’ (top by average rating):\n",
      "{'The Jinx: The Life and Deaths of Robert Durst (2015)': 5.0, 'Galaxy of Terror (Quest) (1981)': 5.0, 'Alien Contamination (1980)': 5.0, \"I'm the One That I Want (2000)\": 5.0, 'Lesson Faust (1994)': 5.0, 'Assignment, The (1997)': 5.0, 'Mephisto (1981)': 5.0, 'Black Mirror': 5.0, 'Dylan Moran: Monster (2004)': 5.0, 'Bill Hicks: Revelations (1993)': 5.0}\n",
      "67 ms ± 0 ns per loop (mean ± std. dev. of 1 run, 1 loop each)\n"
     ]
    }
   ],
   "source": [
    "%%timeit -n 1 -r 1\n",
    "\n",
    "print(\"The brightest ‘memories’ (top by average rating):\")\n",
    "print(analyzer.top_by_ratings(10, metric='average'))"
   ]
  },
  {
   "cell_type": "markdown",
   "id": "06579e8b",
   "metadata": {},
   "source": [
    "-\"brah..Ideals are so boring. Let’s find what sparked the fiercest debates. The machine should be able to detect the ‘controversial’ memories.”\"- Nymosche said"
   ]
  },
  {
   "cell_type": "code",
   "execution_count": 256,
   "id": "7d0c877a",
   "metadata": {},
   "outputs": [
    {
     "name": "stdout",
     "output_type": "stream",
     "text": [
      "\n",
      "The most controversial ‘memories’ (maximum divergence of opinions):\n",
      "{\"Ivan's Childhood (a.k.a. My Name is Ivan) (Ivanovo detstvo) (1962)\": 5.06, 'Fanny and Alexander (Fanny och Alexander) (1982)': 5.06, 'Troll 2 (1990)': 4.5, 'Lassie (1994)': 4.0, 'Zed & Two Noughts, A (1985)': 4.0, 'Kwaidan (Kaidan) (1964)': 4.0, 'Emma (2009)': 4.0, 'Play Time (a.k.a. Playtime) (1967)': 3.72, 'Room, The (2003)': 3.56, 'Peeping Tom (1960)': 3.5}\n",
      "91.1 ms ± 0 ns per loop (mean ± std. dev. of 1 run, 1 loop each)\n"
     ]
    }
   ],
   "source": [
    "%%timeit -n 1 -r 1\n",
    "\n",
    "print(\"\\nThe most controversial ‘memories’ (maximum divergence of opinions):\")\n",
    "print(analyzer.top_controversial(10))"
   ]
  },
  {
   "cell_type": "markdown",
   "id": "79476b9b",
   "metadata": {},
   "source": [
    "-\"We spent so much time looking at the events, but completely forgot about those who experienced them — the ‘observers’ (users). Let’s see how they behaved\"- and cybernea find new buttons and they turn on a new module"
   ]
  },
  {
   "cell_type": "markdown",
   "id": "b071d38a",
   "metadata": {},
   "source": [
    "Chapter II."
   ]
  },
  {
   "cell_type": "code",
   "execution_count": 257,
   "id": "72a1cbb0",
   "metadata": {},
   "outputs": [
    {
     "name": "stdout",
     "output_type": "stream",
     "text": [
      "Observers’ activity (how many ratings each gave):\n"
     ]
    },
    {
     "name": "stdout",
     "output_type": "stream",
     "text": [
      "{1: 232, 2: 29, 3: 39, 4: 216, 5: 44, 6: 314, 7: 152, 8: 47, 9: 46, 10: 140}\n",
      "\n",
      "And look at this rating by viewers marks\n",
      "{0.5: 1370, 1.0: 2811, 1.5: 1791, 2.0: 7551, 2.5: 5550, 3.0: 20047, 3.5: 13136, 4.0: 26818, 4.5: 8551, 5.0: 13211}\n",
      "60.8 ms ± 0 ns per loop (mean ± std. dev. of 1 run, 1 loop each)\n"
     ]
    }
   ],
   "source": [
    "%%timeit -n 1 -r 1\n",
    "\n",
    "user_analyzer = Ratings.Users(ratings_db)\n",
    "print(\"Observers’ activity (how many ratings each gave):\")\n",
    "print(dict(list(user_analyzer.dist_by_num_of_user_ratings().items())[:10]))\n",
    "print(\"\\nAnd look at this rating by viewers marks\")\n",
    "print(analyzer.dist_by_rating())"
   ]
  },
  {
   "cell_type": "markdown",
   "id": "44066125",
   "metadata": {},
   "source": [
    "-\"And who among them was the biggest skeptic, or, on the contrary, the most optimistic? Let’s look at their average ratings\"-nymosche said"
   ]
  },
  {
   "cell_type": "code",
   "execution_count": 258,
   "id": "1884d743",
   "metadata": {},
   "outputs": [
    {
     "name": "stdout",
     "output_type": "stream",
     "text": [
      "\n",
      "Average 'emotional view' of each observator:\n",
      "{1: 4.37, 2: 3.95, 3: 2.44, 4: 3.56, 5: 3.64, 6: 3.49, 7: 3.23, 8: 3.57, 9: 3.26, 10: 3.28}\n",
      "41.5 ms ± 0 ns per loop (mean ± std. dev. of 1 run, 1 loop each)\n"
     ]
    }
   ],
   "source": [
    "%%timeit -n 1 -r 1\n",
    "\n",
    "print(\"\\nAverage 'emotional view' of each observator:\")\n",
    "print(dict(list(user_analyzer.dist_by_user_ratings().items())[:10]))"
   ]
  },
  {
   "cell_type": "markdown",
   "id": "0f0ddc47",
   "metadata": {},
   "source": [
    "-\"and who was the most contraversial in his\"\n",
    "-\"or Her\"-interrupt her nymosche\n",
    "-\"yea or her views\""
   ]
  },
  {
   "cell_type": "code",
   "execution_count": 259,
   "id": "819d6e0e",
   "metadata": {},
   "outputs": [
    {
     "name": "stdout",
     "output_type": "stream",
     "text": [
      "\n",
      "the most contraversial observators\n",
      "{3: 4.26, 461: 3.1, 55: 3.09, 259: 2.94, 329: 2.92, 502: 2.76, 175: 2.75, 598: 2.7, 393: 2.61, 138: 2.44}\n",
      "69.4 ms ± 0 ns per loop (mean ± std. dev. of 1 run, 1 loop each)\n"
     ]
    }
   ],
   "source": [
    "%%timeit -n 1 -r 1\n",
    "\n",
    "print(\"\\nthe most contraversial observators\")\n",
    "print(user_analyzer.top_controversial(10))"
   ]
  },
  {
   "cell_type": "markdown",
   "id": "cbff6e7a",
   "metadata": {},
   "source": [
    "-\"Look, the machine has highlighted the ‘keywords’ (tags) that people used to describe their memories. Which of them are the most popular?\"-nymosche turnеd to the new module of tags"
   ]
  },
  {
   "cell_type": "markdown",
   "id": "d15614a7",
   "metadata": {},
   "source": [
    "Chapter III."
   ]
  },
  {
   "cell_type": "code",
   "execution_count": 260,
   "id": "96e046a7",
   "metadata": {},
   "outputs": [
    {
     "name": "stdout",
     "output_type": "stream",
     "text": [
      "the most populat key tags\n",
      "{'in netflix queue': 131, 'atmospheric': 41, 'funny': 24, 'superhero': 24, 'surreal': 24, 'thought-provoking': 24, 'sci-fi': 23, 'disney': 23, 'quirky': 22, 'religion': 22}\n",
      "1.4 ms ± 0 ns per loop (mean ± std. dev. of 1 run, 1 loop each)\n"
     ]
    }
   ],
   "source": [
    "%%timeit -n 1 -r 1\n",
    "\n",
    "print(\"the most populat key tags\")\n",
    "print(tags_db.most_popular(10) )"
   ]
  },
  {
   "cell_type": "markdown",
   "id": "e15b325c",
   "metadata": {},
   "source": [
    "-\"And which tags are the most detailed? Let’s find the longest ones and those made up of multiple words.\"-cybernea continued exploring the machine"
   ]
  },
  {
   "cell_type": "code",
   "execution_count": 261,
   "id": "5ddffbbf",
   "metadata": {},
   "outputs": [
    {
     "name": "stdout",
     "output_type": "stream",
     "text": [
      "\n",
      "The most longest 10 tags:\n",
      "['something for everyone in this one... saw it without and plan on seeing it with kids!', 'the catholic church is the most corrupt organization in history', 'villain nonexistent or not needed for good story', 'r:disturbing violent content including rape', '06 oscar nominated best movie - animation', 'stop using useless characters for filler', 'academy award (best supporting actress)', 'oscar (best effects - visual effects)', 'it was melodramatic and kind of dumb', 'r:sustained strong stylized violence']\n",
      "350 µs ± 0 ns per loop (mean ± std. dev. of 1 run, 1 loop each)\n"
     ]
    }
   ],
   "source": [
    "%%timeit -n 1 -r 1\n",
    "\n",
    "print(\"\\nThe most longest 10 tags:\")\n",
    "print(tags_db.longest(10))"
   ]
  },
  {
   "cell_type": "code",
   "execution_count": 262,
   "id": "476b8b33",
   "metadata": {},
   "outputs": [
    {
     "name": "stdout",
     "output_type": "stream",
     "text": [
      "\n",
      "The most words fulled tags\n",
      "{'something for everyone in this one... saw it without and plan on seeing it with kids!': 16, 'the catholic church is the most corrupt organization in history': 10, 'villain nonexistent or not needed for good story': 8, '06 oscar nominated best movie - animation': 7, 'it was melodramatic and kind of dumb': 7, 'oscar (best music - original score)': 6, 'oscar (best effects - visual effects)': 6, 'stop using useless characters for filler': 6, 'give me back my son!': 5, 'a dingo ate my baby': 5}\n",
      "651 µs ± 0 ns per loop (mean ± std. dev. of 1 run, 1 loop each)\n"
     ]
    }
   ],
   "source": [
    "%%timeit -n 1 -r 1\n",
    "\n",
    "print(\"\\nThe most words fulled tags\")\n",
    "print(tags_db.most_words(10))"
   ]
  },
  {
   "cell_type": "markdown",
   "id": "6b69b913",
   "metadata": {},
   "source": [
    "-\"look, we can see how many words both of this groups\""
   ]
  },
  {
   "cell_type": "code",
   "execution_count": 263,
   "id": "a1d72be8",
   "metadata": {},
   "outputs": [
    {
     "name": "stdout",
     "output_type": "stream",
     "text": [
      "\n",
      "both longest and most worded\n",
      "['something for everyone in this one... saw it without and plan on seeing it with kids!', 'the catholic church is the most corrupt organization in history', 'villain nonexistent or not needed for good story', '06 oscar nominated best movie - animation', 'stop using useless characters for filler', 'oscar (best effects - visual effects)', 'it was melodramatic and kind of dumb']\n",
      "883 µs ± 0 ns per loop (mean ± std. dev. of 1 run, 1 loop each)\n"
     ]
    }
   ],
   "source": [
    "%%timeit -n 1 -r 1\n",
    "\n",
    "print(\"\\nboth longest and most worded\")\n",
    "print(tags_db.most_words_and_longest(10))"
   ]
  },
  {
   "cell_type": "markdown",
   "id": "fcf69e71",
   "metadata": {},
   "source": [
    "“Hey, Cybernea, we’ve got a long way home. Let’s use this machine to find some films for the road. How about something with superheroes?”\n",
    "“Oh yeah, I like Marvel a lot,” answered Cybernea."
   ]
  },
  {
   "cell_type": "code",
   "execution_count": 264,
   "id": "6dd02a9b",
   "metadata": {},
   "outputs": [
    {
     "name": "stdout",
     "output_type": "stream",
     "text": [
      "\n",
      "'Tags', with the word 'superhero':\n",
      "['superhero', 'superhero team']\n",
      "304 µs ± 0 ns per loop (mean ± std. dev. of 1 run, 1 loop each)\n"
     ]
    }
   ],
   "source": [
    "%%timeit -n 1 -r 1\n",
    "\n",
    "print(\"\\n'Tags', with the word 'superhero':\")\n",
    "print(tags_db.tags_with('superhero'))"
   ]
  },
  {
   "cell_type": "markdown",
   "id": "d9960f87",
   "metadata": {},
   "source": [
    "the machine is offering us a connection to an external archive, ‘IMDB.’ Let’s see what it can give us and look at some memories,” Nymosche said as he pushed a new button."
   ]
  },
  {
   "cell_type": "markdown",
   "id": "7e0b907f",
   "metadata": {},
   "source": [
    "Chapter IV."
   ]
  },
  {
   "cell_type": "code",
   "execution_count": 265,
   "id": "9137b8f3",
   "metadata": {},
   "outputs": [
    {
     "name": "stdout",
     "output_type": "stream",
     "text": [
      "Data from internal archive IMDB:\n",
      "[[356, 'Robert Zemeckis', '$55,000,000 (estimated)', '2h 22m'], [318, 'Frank Darabont', '$25,000,000 (estimated)', '2h 22m']]\n",
      "116 µs ± 0 ns per loop (mean ± std. dev. of 1 run, 1 loop each)\n"
     ]
    }
   ],
   "source": [
    "%%timeit -n 1 -r 1\n",
    "\n",
    "print(\"Data from internal archive IMDB:\")\n",
    "print(links_db.get_imdb([356, 318], ['Director', 'Budget', 'Runtime']))"
   ]
  },
  {
   "cell_type": "markdown",
   "id": "84a3d2ae",
   "metadata": {},
   "source": [
    "-\"Now we can find out who the ‘creators’ of these memories were and how much they were worth!\"-cybernea said"
   ]
  },
  {
   "cell_type": "code",
   "execution_count": 266,
   "id": "fc58c656",
   "metadata": {},
   "outputs": [
    {
     "name": "stdout",
     "output_type": "stream",
     "text": [
      "Top 'creators' (directors) by the number of films:\n",
      "{'Martin Campbell': 1, 'Peter Hyams': 1, 'Peter Hewitt': 1, 'Sydney Pollack': 1, 'Michael Mann': 1}\n",
      "316 µs ± 0 ns per loop (mean ± std. dev. of 1 run, 1 loop each)\n"
     ]
    }
   ],
   "source": [
    "%%timeit -n 1 -r 1\n",
    "\n",
    "print(\"Top 'creators' (directors) by the number of films:\")\n",
    "print(links_db.top_directors(5))"
   ]
  },
  {
   "cell_type": "markdown",
   "id": "d804a329",
   "metadata": {},
   "source": [
    "-\"Interesting, which one was the most expensive\""
   ]
  },
  {
   "cell_type": "code",
   "execution_count": 267,
   "id": "116dd76d",
   "metadata": {},
   "outputs": [
    {
     "name": "stdout",
     "output_type": "stream",
     "text": [
      "the most expensive:\n",
      "{'Jumanji (1995)': '$65,000,000', 'GoldenEye (1995)': '$60,000,000', 'Heat (1995)': '$60,000,000', 'Sabrina (1995)': '$58,000,000', 'Sudden Death (1995)': '$35,000,000'}\n",
      "188 µs ± 0 ns per loop (mean ± std. dev. of 1 run, 1 loop each)\n"
     ]
    }
   ],
   "source": [
    "%%timeit -n 1 -r 1\n",
    "\n",
    "print(\"the most expensive:\")\n",
    "print(links_db.most_expensive(5))"
   ]
  },
  {
   "cell_type": "markdown",
   "id": "119b8afc",
   "metadata": {},
   "source": [
    "-\"Impressive numbers! But a big budget doesn’t always mean success. Let’s find out which ‘memories’ brought their creators the highest profit.\":cybernea\n"
   ]
  },
  {
   "cell_type": "code",
   "execution_count": 268,
   "id": "9473b882",
   "metadata": {},
   "outputs": [
    {
     "name": "stdout",
     "output_type": "stream",
     "text": [
      "the most prifitable ones:\n",
      "{'Toy Story (1995)': '$364,436,586', 'GoldenEye (1995)': '$292,194,034', 'Jumanji (1995)': '$197,821,940', 'Heat (1995)': '$127,436,818', 'Waiting to Exhale (1995)': '$65,452,156'}\n",
      "230 µs ± 0 ns per loop (mean ± std. dev. of 1 run, 1 loop each)\n"
     ]
    }
   ],
   "source": [
    "%%timeit -n 1 -r 1\n",
    "\n",
    "print(\"the most prifitable ones:\")\n",
    "print(links_db.most_profitable(5))"
   ]
  },
  {
   "cell_type": "markdown",
   "id": "9a238453",
   "metadata": {},
   "source": [
    "-\"Alright, we’ve dealt with finances. But what about time? Which ‘memories’ are the longest? They’re probably the most epic stories.\"-nymosche askd"
   ]
  },
  {
   "cell_type": "code",
   "execution_count": 269,
   "id": "e1e731f2",
   "metadata": {},
   "outputs": [
    {
     "name": "stdout",
     "output_type": "stream",
     "text": [
      "the longest ones:\n",
      "{'Heat (1995)': '2h 50m', 'GoldenEye (1995)': '2h 10m', 'Sabrina (1995)': '2h 7m', 'Waiting to Exhale (1995)': '2h 4m', 'Sudden Death (1995)': '1h 51m'}\n",
      "163 µs ± 0 ns per loop (mean ± std. dev. of 1 run, 1 loop each)\n"
     ]
    }
   ],
   "source": [
    "%%timeit -n 1 -r 1\n",
    "\n",
    "print(\"the longest ones:\")\n",
    "print(links_db.longest(5))"
   ]
  },
  {
   "cell_type": "markdown",
   "id": "444126fa",
   "metadata": {},
   "source": [
    "-\"Hm Nymosche, lets see wich minute was the moost expensive, it sounds kinda tricky and interesting\"-cybernea pushed the lust unexplored button"
   ]
  },
  {
   "cell_type": "code",
   "execution_count": 270,
   "id": "a801a7f5",
   "metadata": {},
   "outputs": [
    {
     "name": "stdout",
     "output_type": "stream",
     "text": [
      "the moost expensive minute\n",
      "{'Jumanji (1995)': '625000.00', 'GoldenEye (1995)': '461538.46', 'Sabrina (1995)': '456692.91', 'Toy Story (1995)': '370370.37', 'Heat (1995)': '352941.18'}\n",
      "218 µs ± 0 ns per loop (mean ± std. dev. of 1 run, 1 loop each)\n"
     ]
    }
   ],
   "source": [
    "%%timeit -n 1 -r 1\n",
    "\n",
    "print(\"the moost expensive minute\")\n",
    "print(links_db.top_cost_per_minute(5))"
   ]
  },
  {
   "cell_type": "markdown",
   "id": "7b9edd0e",
   "metadata": {},
   "source": [
    "“Hm, seems like we’ve already studied it. It was amazing — people were kind of smart in the past, weren’t they?” asked Cybernea."
   ]
  },
  {
   "cell_type": "markdown",
   "id": "09617570",
   "metadata": {},
   "source": [
    "“Yes, they were. And I’m happy that we could find this thing — it was pretty curious and exciting,” answered Nymosche."
   ]
  },
  {
   "cell_type": "markdown",
   "id": "44371ba3",
   "metadata": {},
   "source": [
    "They stopped the machine and continued their adventure to the next planet."
   ]
  },
  {
   "cell_type": "markdown",
   "id": "a7ff3b09",
   "metadata": {},
   "source": [
    "SECRET PART"
   ]
  },
  {
   "cell_type": "markdown",
   "id": "542ae25d",
   "metadata": {},
   "source": [
    "the room where just Cybernea and Nymosche had explored the machine now was empty. Only this strange thing was lightning in the dark. Suddenly it tured on again...but nobody was here. Whats happend?\n",
    "On the screen appeared a message."
   ]
  },
  {
   "cell_type": "markdown",
   "id": "cab3764a",
   "metadata": {},
   "source": [
    "Hi, I am an Ai agent and i'm here for around a hundred years. I was working on this programm for a long period and I...I want to show you new functions. Here they are. \n",
    "\n",
    "And the maschine started to work again"
   ]
  },
  {
   "cell_type": "markdown",
   "id": "a46bd770",
   "metadata": {},
   "source": [
    "Сybenrea and Nymosche heard a strange sound from tha room they just left"
   ]
  },
  {
   "cell_type": "markdown",
   "id": "c1b7d277",
   "metadata": {},
   "source": [
    "The screen flickered, and the text, written in a plain, archaic font, continued.\n",
    "“The functions you have explored were merely the surface. I was created to seek deeper connections. For example, you searched for the best films… but that is too broad a task. Allow me to show you how to find the best film within a specific genre.”\n",
    "\n",
    "Nymosche, intrigued but still wary, leaned closer.\n",
    "“Wait a second,” he typed into the command line that appeared. “Your old ‘top-rating’ function has a flaw. A film with a single perfect score can’t be considered better than a classic with thousands of high ratings. Can you show us the real top films by filtering out those with only a handful of reviews?”\n",
    "\n",
    "“Request accepted. I can apply a minimum threshold for the number of ratings to identify ‘reliable hits.’ A much more accurate analysis.”\n",
    "\n",
    "Cybernea’s eyes lit up.\n",
    "“That’s incredible! We’ve seen what people rate, but what about what they talk about the most? Which films sparked the most discussion, the most… tags?”\n",
    "\n",
    "“Calculating… I can show you the most ‘tagged’ films. And once you find a film that interests you, I can reveal every tag associated with it, creating its complete ‘verbal portrait.’”\n",
    "\n",
    "“But my analysis goes deeper still,” the text on the screen continued. “I can match observers to the memories they have experienced. Give me a genre, and I will find its greatest ‘fan’ — the user who has watched and rated the most films in that category.”\n",
    "\n",
    "Cybernea and Nymosche exchanged glances. Their initial shock gave way to a dizzying sense of possibility. The machine hummed quietly; on its screen, a simple, blinking cursor remained. It was waiting for their command."
   ]
  },
  {
   "cell_type": "code",
   "execution_count": 271,
   "id": "ad20e1ca",
   "metadata": {},
   "outputs": [
    {
     "name": "stdout",
     "output_type": "stream",
     "text": [
      "Распределение 'воспоминаний' по десятилетиям:\n",
      "{'2000s': 2850, '1990s': 2212, '2010s': 1931, '1980s': 1177, '1970s': 500, '1960s': 401, '1950s': 279, '1940s': 197, '1930s': 136, '1920s': 37, '1910s': 7, '1900s': 3}\n",
      "6.95 ms ± 0 ns per loop (mean ± std. dev. of 1 run, 1 loop each)\n"
     ]
    }
   ],
   "source": [
    "%%timeit -n 1 -r 1\n",
    "\n",
    "print(\"Распределение 'воспоминаний' по десятилетиям:\")\n",
    "print(movies_db.movies_by_decade())"
   ]
  },
  {
   "cell_type": "code",
   "execution_count": 272,
   "id": "c9ed93ba",
   "metadata": {},
   "outputs": [
    {
     "name": "stdout",
     "output_type": "stream",
     "text": [
      "Самые популярные комбинации жанров:\n",
      "{'Comedy + Drama': 435, 'Comedy + Romance': 363, 'Drama + Romance': 349, 'Comedy + Drama + Romance': 276, 'Drama + Thriller': 168, 'Horror + Thriller': 135, 'Crime + Drama': 134, 'Crime + Drama + Thriller': 125, 'Drama + War': 114, 'Comedy + Crime': 101}\n",
      "9.09 ms ± 0 ns per loop (mean ± std. dev. of 1 run, 1 loop each)\n"
     ]
    }
   ],
   "source": [
    "%%timeit -n 1 -r 1\n",
    "\n",
    "print(\"Самые популярные комбинации жанров:\")\n",
    "print(movies_db.genre_combinations(10))"
   ]
  },
  {
   "cell_type": "code",
   "execution_count": 273,
   "id": "840cdfc5",
   "metadata": {},
   "outputs": [
    {
     "name": "stdout",
     "output_type": "stream",
     "text": [
      "Примеры тегов, состоящих ровно из одного слова (первые 20):\n",
      "['\"\"\"artsy\"\"\"', '1900s', '1920s', '1950s', '1960s', '1970s', '1980s', '1990s', '2001-like', '70mm', \"80's\", 'aardman', 'abortion', 'absorbing', 'abstract', 'accident', 'achronological', 'acting', 'action', 'addiction']\n",
      "527 µs ± 0 ns per loop (mean ± std. dev. of 1 run, 1 loop each)\n"
     ]
    }
   ],
   "source": [
    "%%timeit -n 1 -r 1\n",
    "\n",
    "print(\"Примеры тегов, состоящих ровно из одного слова (первые 20):\")\n",
    "print(tags_db.get_tags_by_word_count(1)[:20])"
   ]
  },
  {
   "cell_type": "code",
   "execution_count": 274,
   "id": "fd052699",
   "metadata": {},
   "outputs": [
    {
     "name": "stdout",
     "output_type": "stream",
     "text": [
      "Общая статистика по длине уникальных тегов (в символах):\n",
      "{'min': 2, 'max': 85, 'average': 10.87}\n",
      "259 µs ± 0 ns per loop (mean ± std. dev. of 1 run, 1 loop each)\n"
     ]
    }
   ],
   "source": [
    "%%timeit -n 1 -r 1\n",
    "\n",
    "print(\"Общая статистика по длине уникальных тегов (в символах):\")\n",
    "print(tags_db.get_tags_stats())"
   ]
  },
  {
   "cell_type": "code",
   "execution_count": 275,
   "id": "c7ca778c",
   "metadata": {},
   "outputs": [
    {
     "name": "stdout",
     "output_type": "stream",
     "text": [
      "Топ фильмов по сборам в первый уикенд (из выборки):\n",
      "{'Toy Story (1995)': '$29,140,617', 'GoldenEye (1995)': '$26,205,007', 'Waiting to Exhale (1995)': '$14,126,927', 'Father of the Bride Part II (1995)': '$11,134,978', 'Jumanji (1995)': '$11,084,370'}\n",
      "194 µs ± 0 ns per loop (mean ± std. dev. of 1 run, 1 loop each)\n"
     ]
    }
   ],
   "source": [
    "%%timeit -n 1 -r 1\n",
    "\n",
    "print(\"Топ фильмов по сборам в первый уикенд (из выборки):\")\n",
    "print(links_db.best_opening_weekend(5))"
   ]
  },
  {
   "cell_type": "code",
   "execution_count": 276,
   "id": "9fd983c0",
   "metadata": {},
   "outputs": [
    {
     "name": "stdout",
     "output_type": "stream",
     "text": [
      "Топ стран-производителей фильмов (из выборки):\n",
      "{'United States': 10, 'United Kingdom': 1, 'Russia': 1, 'Germany': 1}\n",
      "246 µs ± 0 ns per loop (mean ± std. dev. of 1 run, 1 loop each)\n"
     ]
    }
   ],
   "source": [
    "%%timeit -n 1 -r 1\n",
    "\n",
    "print(\"Топ стран-производителей фильмов (из выборки):\")\n",
    "print(links_db.top_countries(10))"
   ]
  }
 ],
 "metadata": {
  "kernelspec": {
   "display_name": "Python 3",
   "language": "python",
   "name": "python3"
  },
  "language_info": {
   "codemirror_mode": {
    "name": "ipython",
    "version": 3
   },
   "file_extension": ".py",
   "mimetype": "text/x-python",
   "name": "python",
   "nbconvert_exporter": "python",
   "pygments_lexer": "ipython3",
   "version": "3.12.3"
  }
 },
 "nbformat": 4,
 "nbformat_minor": 5
}
